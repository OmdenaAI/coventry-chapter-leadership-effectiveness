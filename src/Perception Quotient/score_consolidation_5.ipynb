{
 "cells": [
  {
   "cell_type": "markdown",
   "id": "7b1211ec",
   "metadata": {},
   "source": [
    "# notebook to compute final perception quotient score"
   ]
  },
  {
   "cell_type": "code",
   "execution_count": 1,
   "id": "4cfab642",
   "metadata": {},
   "outputs": [],
   "source": [
    "import pandas as pd\n",
    "import numpy as np"
   ]
  },
  {
   "cell_type": "code",
   "execution_count": null,
   "id": "df1fe61c",
   "metadata": {},
   "outputs": [],
   "source": []
  },
  {
   "cell_type": "markdown",
   "id": "ca15cb76",
   "metadata": {},
   "source": [
    "## fetch sentiment scores\n",
    "\n",
    "sentiment scores per-username were computed with the following methods, where each tweet was labeled with positive, negative, or neutral sentiment; overall sentiment scores per user are in range $[-1,1]$\n",
    "\n",
    "$$\n",
    "\\mbox{main tweets sentiment score} = \\frac{\\mbox{# positive sentiment-# negative sentiment}}{\\mbox{total number of tweets per user}},\n",
    "$$\n",
    "\n",
    "$$\n",
    "\\mbox{reply tweets sentiment score} = \\frac{\\mbox{# positive sentiment replies-# negative sentiment replies}}{\\mbox{total number of replies per user}},\n",
    "$$\n",
    "where replies refers to 1st and/or 2nd most popular replies to a given tweet (if they exist)"
   ]
  },
  {
   "cell_type": "code",
   "execution_count": 2,
   "id": "4dd979eb",
   "metadata": {},
   "outputs": [
    {
     "name": "stdout",
     "output_type": "stream",
     "text": [
      "<class 'pandas.core.frame.DataFrame'>\n",
      "RangeIndex: 507 entries, 0 to 506\n",
      "Data columns (total 3 columns):\n",
      "Username                 507 non-null object\n",
      "Tweet Sentiment Score    507 non-null float64\n",
      "Reply Sentiment Score    507 non-null float64\n",
      "dtypes: float64(2), object(1)\n",
      "memory usage: 12.0+ KB\n"
     ]
    }
   ],
   "source": [
    "\n",
    "df_ss = pd.read_csv('/omdena_2/total_sentiment_scores.csv')\n",
    "df_ss.info()"
   ]
  },
  {
   "cell_type": "markdown",
   "id": "612e1d31",
   "metadata": {},
   "source": [
    "## fetch language scores\n",
    "\n",
    "Language scores per tweet were calculated from the formula,\n",
    "\n",
    "$$\n",
    "\\mbox{tweet language score} = 0.4*(\\mbox{z-score for coherence}) - 0.3*(\\mbox{z-score for Flesch_Kincaid}) + 0.2*(\\mbox{z-score for cohesion}) - 0.1*(\\mbox{z-score for Gunning_Fog})\n",
    "$$\n",
    "\n",
    "So the language score per tweet is just a weighted z-score. To compute a per-username language score, the language score values for each tweet are averaged over each username."
   ]
  },
  {
   "cell_type": "code",
   "execution_count": 3,
   "id": "12de0ea1",
   "metadata": {},
   "outputs": [
    {
     "data": {
      "text/plain": [
       "Index(['tweet_id', 'username', 'text', 'text_parse', 'text_cleaned',\n",
       "       'Flesch_Kincaid', 'Gunning_Fog', 'coherence', 'cohesion', 'F_z', 'G_z',\n",
       "       'coher_z', 'cohes_z', 'text_cleaned_2', 'language_score'],\n",
       "      dtype='object')"
      ]
     },
     "execution_count": 3,
     "metadata": {},
     "output_type": "execute_result"
    }
   ],
   "source": [
    "df_ls = pd.read_csv(\"/omdena_2/language_scores_Jun_15.csv\")\n",
    "df_ls.columns"
   ]
  },
  {
   "cell_type": "code",
   "execution_count": 8,
   "id": "7753bed4",
   "metadata": {},
   "outputs": [],
   "source": [
    "df_group_ls = df_ls.groupby(['username'])"
   ]
  },
  {
   "cell_type": "code",
   "execution_count": 10,
   "id": "5b2596be",
   "metadata": {},
   "outputs": [
    {
     "name": "stdout",
     "output_type": "stream",
     "text": [
      "<class 'pandas.core.frame.DataFrame'>\n",
      "RangeIndex: 507 entries, 0 to 506\n",
      "Data columns (total 6 columns):\n",
      "username          507 non-null object\n",
      "F_z               507 non-null float64\n",
      "G_z               507 non-null float64\n",
      "coher_z           507 non-null float64\n",
      "cohes_z           507 non-null float64\n",
      "language_score    507 non-null float64\n",
      "dtypes: float64(5), object(1)\n",
      "memory usage: 23.9+ KB\n"
     ]
    }
   ],
   "source": [
    "df_ls_per_username = df_group_ls[['F_z','G_z','coher_z','cohes_z','language_score']].mean()\n",
    "df_ls_per_username = df_ls_per_username.reset_index() # converts index 'username' from groupby back into a regular column\n",
    "df_ls_per_username.info()\n"
   ]
  },
  {
   "cell_type": "code",
   "execution_count": 11,
   "id": "09964815",
   "metadata": {},
   "outputs": [
    {
     "data": {
      "text/html": [
       "<div>\n",
       "<style scoped>\n",
       "    .dataframe tbody tr th:only-of-type {\n",
       "        vertical-align: middle;\n",
       "    }\n",
       "\n",
       "    .dataframe tbody tr th {\n",
       "        vertical-align: top;\n",
       "    }\n",
       "\n",
       "    .dataframe thead th {\n",
       "        text-align: right;\n",
       "    }\n",
       "</style>\n",
       "<table border=\"1\" class=\"dataframe\">\n",
       "  <thead>\n",
       "    <tr style=\"text-align: right;\">\n",
       "      <th></th>\n",
       "      <th>username</th>\n",
       "      <th>F_z</th>\n",
       "      <th>G_z</th>\n",
       "      <th>coher_z</th>\n",
       "      <th>cohes_z</th>\n",
       "      <th>language_score</th>\n",
       "    </tr>\n",
       "  </thead>\n",
       "  <tbody>\n",
       "    <tr>\n",
       "      <th>0</th>\n",
       "      <td>13harmanpreet</td>\n",
       "      <td>-0.228091</td>\n",
       "      <td>-0.299630</td>\n",
       "      <td>-0.137470</td>\n",
       "      <td>-0.590598</td>\n",
       "      <td>-0.074717</td>\n",
       "    </tr>\n",
       "    <tr>\n",
       "      <th>1</th>\n",
       "      <td>_davidlimbrick</td>\n",
       "      <td>0.202723</td>\n",
       "      <td>0.187489</td>\n",
       "      <td>-0.146422</td>\n",
       "      <td>-0.588492</td>\n",
       "      <td>-0.255833</td>\n",
       "    </tr>\n",
       "    <tr>\n",
       "      <th>2</th>\n",
       "      <td>_pgauthier</td>\n",
       "      <td>-0.406884</td>\n",
       "      <td>-0.456007</td>\n",
       "      <td>-0.044151</td>\n",
       "      <td>0.590707</td>\n",
       "      <td>0.268147</td>\n",
       "    </tr>\n",
       "    <tr>\n",
       "      <th>3</th>\n",
       "      <td>_profanand</td>\n",
       "      <td>0.682040</td>\n",
       "      <td>0.889263</td>\n",
       "      <td>-0.066712</td>\n",
       "      <td>0.004933</td>\n",
       "      <td>-0.319236</td>\n",
       "    </tr>\n",
       "    <tr>\n",
       "      <th>4</th>\n",
       "      <td>aamnaisani</td>\n",
       "      <td>-0.235224</td>\n",
       "      <td>-0.185765</td>\n",
       "      <td>-0.228481</td>\n",
       "      <td>-0.118579</td>\n",
       "      <td>-0.025964</td>\n",
       "    </tr>\n",
       "    <tr>\n",
       "      <th>...</th>\n",
       "      <td>...</td>\n",
       "      <td>...</td>\n",
       "      <td>...</td>\n",
       "      <td>...</td>\n",
       "      <td>...</td>\n",
       "      <td>...</td>\n",
       "    </tr>\n",
       "    <tr>\n",
       "      <th>502</th>\n",
       "      <td>yasminqureshimp</td>\n",
       "      <td>0.579329</td>\n",
       "      <td>0.620687</td>\n",
       "      <td>-0.215577</td>\n",
       "      <td>-0.243409</td>\n",
       "      <td>-0.370780</td>\n",
       "    </tr>\n",
       "    <tr>\n",
       "      <th>503</th>\n",
       "      <td>yohannes_v</td>\n",
       "      <td>-0.624669</td>\n",
       "      <td>-0.502835</td>\n",
       "      <td>0.022367</td>\n",
       "      <td>0.165451</td>\n",
       "      <td>0.279721</td>\n",
       "    </tr>\n",
       "    <tr>\n",
       "      <th>504</th>\n",
       "      <td>yoursanjali</td>\n",
       "      <td>-0.310831</td>\n",
       "      <td>-0.454854</td>\n",
       "      <td>0.626757</td>\n",
       "      <td>0.449709</td>\n",
       "      <td>0.479379</td>\n",
       "    </tr>\n",
       "    <tr>\n",
       "      <th>505</th>\n",
       "      <td>ysiu</td>\n",
       "      <td>-0.016964</td>\n",
       "      <td>-0.044300</td>\n",
       "      <td>-0.409144</td>\n",
       "      <td>0.479911</td>\n",
       "      <td>-0.058156</td>\n",
       "    </tr>\n",
       "    <tr>\n",
       "      <th>506</th>\n",
       "      <td>yusuffali_ma</td>\n",
       "      <td>0.585986</td>\n",
       "      <td>0.637308</td>\n",
       "      <td>0.212544</td>\n",
       "      <td>-0.110403</td>\n",
       "      <td>-0.176590</td>\n",
       "    </tr>\n",
       "  </tbody>\n",
       "</table>\n",
       "<p>507 rows × 6 columns</p>\n",
       "</div>"
      ],
      "text/plain": [
       "            username       F_z       G_z   coher_z   cohes_z  language_score\n",
       "0      13harmanpreet -0.228091 -0.299630 -0.137470 -0.590598       -0.074717\n",
       "1     _davidlimbrick  0.202723  0.187489 -0.146422 -0.588492       -0.255833\n",
       "2         _pgauthier -0.406884 -0.456007 -0.044151  0.590707        0.268147\n",
       "3         _profanand  0.682040  0.889263 -0.066712  0.004933       -0.319236\n",
       "4         aamnaisani -0.235224 -0.185765 -0.228481 -0.118579       -0.025964\n",
       "..               ...       ...       ...       ...       ...             ...\n",
       "502  yasminqureshimp  0.579329  0.620687 -0.215577 -0.243409       -0.370780\n",
       "503       yohannes_v -0.624669 -0.502835  0.022367  0.165451        0.279721\n",
       "504      yoursanjali -0.310831 -0.454854  0.626757  0.449709        0.479379\n",
       "505             ysiu -0.016964 -0.044300 -0.409144  0.479911       -0.058156\n",
       "506     yusuffali_ma  0.585986  0.637308  0.212544 -0.110403       -0.176590\n",
       "\n",
       "[507 rows x 6 columns]"
      ]
     },
     "execution_count": 11,
     "metadata": {},
     "output_type": "execute_result"
    }
   ],
   "source": [
    "df_ls_per_username"
   ]
  },
  {
   "cell_type": "markdown",
   "id": "f52db67f",
   "metadata": {},
   "source": [
    "## compute metric scores\n",
    "\n",
    "The formula for metric score per-tweet is,\n",
    "\n",
    "$$\n",
    "\\mbox{tweet metric score} = 0.25*\\mbox{np.log}(1+\\mbox{reply count}) + 0.25*\\mbox{np.log}(1+\\mbox{likes count}) + 0.25*\\mbox{np.log}(1+\\mbox{quote count}) + 0.25*\\mbox{np.log}(1+\\mbox{retweet count})\n",
    "$$\n",
    "\n",
    "To compute the metric score per username, we first find the per-tweet z-score for the metric score, then average the z-scores for each username."
   ]
  },
  {
   "cell_type": "code",
   "execution_count": 18,
   "id": "4ba41195",
   "metadata": {},
   "outputs": [
    {
     "data": {
      "text/plain": [
       "Index(['Unnamed: 0', 'tweet_id', 'username', 'text', 'id', 'timestamp',\n",
       "       'Replies', 'likes count', 'quote_tweet count', 'retweet count',\n",
       "       'followers'],\n",
       "      dtype='object')"
      ]
     },
     "execution_count": 18,
     "metadata": {},
     "output_type": "execute_result"
    }
   ],
   "source": [
    "df_rc = pd.read_csv('/omdena_2/tweets_with_reply_counts.csv')\n",
    "df_rc.columns"
   ]
  },
  {
   "cell_type": "code",
   "execution_count": 13,
   "id": "df8e93f0",
   "metadata": {},
   "outputs": [],
   "source": [
    "# define a function to compute z-scores on a Pandas column; could also use scipy.stats \n",
    "# zscore(), which though does not work with np.nan values (I don't think)\n",
    "def zscore_custom(in_series):\n",
    "    # input a Pandas series (for example a dataframe column), or I suppose a numpy array;\n",
    "    # this uses Pandas' mean() and std() handling of np.nan values--which ignores them\n",
    "    # ddof=0 is to match scipy.stats zscore output--debatable if necessary\n",
    "    return (in_series-in_series.mean())/in_series.std(ddof=0)"
   ]
  },
  {
   "cell_type": "code",
   "execution_count": 19,
   "id": "567ca2c5",
   "metadata": {},
   "outputs": [],
   "source": [
    "# use logs on all the counts for better scaling\n",
    "df_rc['log_replies'] = df_rc['Replies'].apply(lambda x: np.log(x+1))\n",
    "df_rc['z_log_replies'] = zscore_custom(df_rc['log_replies'])\n",
    "\n",
    "df_rc['log_likes'] = df_rc['likes count'].apply(lambda x: np.log(x+1))\n",
    "df_rc['z_log_likes'] = zscore_custom(df_rc['log_likes'])\n",
    "\n",
    "df_rc['log_quotes'] = df_rc['quote_tweet count'].apply(lambda x: np.log(x+1))\n",
    "df_rc['z_log_quotes'] = zscore_custom(df_rc['log_quotes'])\n",
    "\n",
    "df_rc['log_retweets'] = df_rc['retweet count'].apply(lambda x: np.log(x+1))\n",
    "df_rc['z_log_retweets'] = zscore_custom(df_rc['log_retweets'])\n"
   ]
  },
  {
   "cell_type": "code",
   "execution_count": 20,
   "id": "cba4ff3b",
   "metadata": {},
   "outputs": [],
   "source": [
    "def weighted_sum(row):\n",
    "    return 0.25*row['z_log_replies']+0.25*row['z_log_likes']+0.25*row['z_log_quotes']+0.25*row['z_log_retweets']\n",
    "\n",
    "# metric score, per tweet\n",
    "df_rc['metric_score'] = df_rc.apply(weighted_sum,axis=1)"
   ]
  },
  {
   "cell_type": "code",
   "execution_count": 21,
   "id": "ce98065d",
   "metadata": {},
   "outputs": [],
   "source": [
    "df_group_ms = df_rc.groupby(['username'])\n",
    "df_ms = df_group_ms[['z_log_replies','z_log_likes','z_log_quotes','z_log_retweets','metric_score']].mean()\n",
    "df_ms = df_ms.reset_index()"
   ]
  },
  {
   "cell_type": "code",
   "execution_count": 22,
   "id": "02fd6bb1",
   "metadata": {},
   "outputs": [
    {
     "name": "stdout",
     "output_type": "stream",
     "text": [
      "<class 'pandas.core.frame.DataFrame'>\n",
      "RangeIndex: 507 entries, 0 to 506\n",
      "Data columns (total 6 columns):\n",
      "username          507 non-null object\n",
      "z_log_replies     507 non-null float64\n",
      "z_log_likes       507 non-null float64\n",
      "z_log_quotes      507 non-null float64\n",
      "z_log_retweets    507 non-null float64\n",
      "metric_score      507 non-null float64\n",
      "dtypes: float64(5), object(1)\n",
      "memory usage: 23.9+ KB\n"
     ]
    }
   ],
   "source": [
    "df_ms.info()"
   ]
  },
  {
   "cell_type": "code",
   "execution_count": 23,
   "id": "e0f4ffd5",
   "metadata": {},
   "outputs": [
    {
     "data": {
      "text/html": [
       "<div>\n",
       "<style scoped>\n",
       "    .dataframe tbody tr th:only-of-type {\n",
       "        vertical-align: middle;\n",
       "    }\n",
       "\n",
       "    .dataframe tbody tr th {\n",
       "        vertical-align: top;\n",
       "    }\n",
       "\n",
       "    .dataframe thead th {\n",
       "        text-align: right;\n",
       "    }\n",
       "</style>\n",
       "<table border=\"1\" class=\"dataframe\">\n",
       "  <thead>\n",
       "    <tr style=\"text-align: right;\">\n",
       "      <th></th>\n",
       "      <th>username</th>\n",
       "      <th>z_log_replies</th>\n",
       "      <th>z_log_likes</th>\n",
       "      <th>z_log_quotes</th>\n",
       "      <th>z_log_retweets</th>\n",
       "      <th>metric_score</th>\n",
       "    </tr>\n",
       "  </thead>\n",
       "  <tbody>\n",
       "    <tr>\n",
       "      <th>0</th>\n",
       "      <td>13harmanpreet</td>\n",
       "      <td>-0.121673</td>\n",
       "      <td>0.599458</td>\n",
       "      <td>-0.201362</td>\n",
       "      <td>-0.054830</td>\n",
       "      <td>0.055398</td>\n",
       "    </tr>\n",
       "    <tr>\n",
       "      <th>1</th>\n",
       "      <td>_davidlimbrick</td>\n",
       "      <td>1.450757</td>\n",
       "      <td>1.188754</td>\n",
       "      <td>1.208777</td>\n",
       "      <td>1.013061</td>\n",
       "      <td>1.215337</td>\n",
       "    </tr>\n",
       "    <tr>\n",
       "      <th>2</th>\n",
       "      <td>_pgauthier</td>\n",
       "      <td>-0.505425</td>\n",
       "      <td>-0.886006</td>\n",
       "      <td>-0.366954</td>\n",
       "      <td>-0.698369</td>\n",
       "      <td>-0.614189</td>\n",
       "    </tr>\n",
       "    <tr>\n",
       "      <th>3</th>\n",
       "      <td>_profanand</td>\n",
       "      <td>-0.389838</td>\n",
       "      <td>-0.390940</td>\n",
       "      <td>-0.100666</td>\n",
       "      <td>0.083057</td>\n",
       "      <td>-0.199597</td>\n",
       "    </tr>\n",
       "    <tr>\n",
       "      <th>4</th>\n",
       "      <td>aamnaisani</td>\n",
       "      <td>0.506239</td>\n",
       "      <td>0.661929</td>\n",
       "      <td>0.019976</td>\n",
       "      <td>-0.091043</td>\n",
       "      <td>0.274275</td>\n",
       "    </tr>\n",
       "    <tr>\n",
       "      <th>...</th>\n",
       "      <td>...</td>\n",
       "      <td>...</td>\n",
       "      <td>...</td>\n",
       "      <td>...</td>\n",
       "      <td>...</td>\n",
       "      <td>...</td>\n",
       "    </tr>\n",
       "    <tr>\n",
       "      <th>502</th>\n",
       "      <td>yasminqureshimp</td>\n",
       "      <td>-0.460960</td>\n",
       "      <td>-0.342612</td>\n",
       "      <td>-0.304716</td>\n",
       "      <td>-0.270484</td>\n",
       "      <td>-0.344693</td>\n",
       "    </tr>\n",
       "    <tr>\n",
       "      <th>503</th>\n",
       "      <td>yohannes_v</td>\n",
       "      <td>0.039182</td>\n",
       "      <td>0.602825</td>\n",
       "      <td>0.273396</td>\n",
       "      <td>0.717837</td>\n",
       "      <td>0.408310</td>\n",
       "    </tr>\n",
       "    <tr>\n",
       "      <th>504</th>\n",
       "      <td>yoursanjali</td>\n",
       "      <td>0.595662</td>\n",
       "      <td>0.566111</td>\n",
       "      <td>-0.300328</td>\n",
       "      <td>0.469372</td>\n",
       "      <td>0.332704</td>\n",
       "    </tr>\n",
       "    <tr>\n",
       "      <th>505</th>\n",
       "      <td>ysiu</td>\n",
       "      <td>-0.695945</td>\n",
       "      <td>-0.940460</td>\n",
       "      <td>-0.365732</td>\n",
       "      <td>-0.639013</td>\n",
       "      <td>-0.660288</td>\n",
       "    </tr>\n",
       "    <tr>\n",
       "      <th>506</th>\n",
       "      <td>yusuffali_ma</td>\n",
       "      <td>0.630984</td>\n",
       "      <td>0.690984</td>\n",
       "      <td>0.139421</td>\n",
       "      <td>0.384624</td>\n",
       "      <td>0.461503</td>\n",
       "    </tr>\n",
       "  </tbody>\n",
       "</table>\n",
       "<p>507 rows × 6 columns</p>\n",
       "</div>"
      ],
      "text/plain": [
       "            username  z_log_replies  z_log_likes  z_log_quotes  \\\n",
       "0      13harmanpreet      -0.121673     0.599458     -0.201362   \n",
       "1     _davidlimbrick       1.450757     1.188754      1.208777   \n",
       "2         _pgauthier      -0.505425    -0.886006     -0.366954   \n",
       "3         _profanand      -0.389838    -0.390940     -0.100666   \n",
       "4         aamnaisani       0.506239     0.661929      0.019976   \n",
       "..               ...            ...          ...           ...   \n",
       "502  yasminqureshimp      -0.460960    -0.342612     -0.304716   \n",
       "503       yohannes_v       0.039182     0.602825      0.273396   \n",
       "504      yoursanjali       0.595662     0.566111     -0.300328   \n",
       "505             ysiu      -0.695945    -0.940460     -0.365732   \n",
       "506     yusuffali_ma       0.630984     0.690984      0.139421   \n",
       "\n",
       "     z_log_retweets  metric_score  \n",
       "0         -0.054830      0.055398  \n",
       "1          1.013061      1.215337  \n",
       "2         -0.698369     -0.614189  \n",
       "3          0.083057     -0.199597  \n",
       "4         -0.091043      0.274275  \n",
       "..              ...           ...  \n",
       "502       -0.270484     -0.344693  \n",
       "503        0.717837      0.408310  \n",
       "504        0.469372      0.332704  \n",
       "505       -0.639013     -0.660288  \n",
       "506        0.384624      0.461503  \n",
       "\n",
       "[507 rows x 6 columns]"
      ]
     },
     "execution_count": 23,
     "metadata": {},
     "output_type": "execute_result"
    }
   ],
   "source": [
    "df_ms"
   ]
  },
  {
   "cell_type": "markdown",
   "id": "ff03d12a",
   "metadata": {},
   "source": [
    "## merge\n",
    "\n",
    "Load dataframe with gender and country data, and merge all of the above."
   ]
  },
  {
   "cell_type": "code",
   "execution_count": 24,
   "id": "14539f70",
   "metadata": {},
   "outputs": [
    {
     "data": {
      "text/plain": [
       "Index(['Unnamed: 0', 'text', 'reply1', 'reply2', 'likes count',\n",
       "       'quote_tweet count', 'retweet count', 'timestamp', 'followers',\n",
       "       'username', 'display name', 'gender', 'country'],\n",
       "      dtype='object')"
      ]
     },
     "execution_count": 24,
     "metadata": {},
     "output_type": "execute_result"
    }
   ],
   "source": [
    "df_user_info = pd.read_csv('/omdena_2/NorthAmerica_Task1_1_corrected_genders_no_fan_accounts.csv')\n",
    "df_user_info.columns"
   ]
  },
  {
   "cell_type": "code",
   "execution_count": 26,
   "id": "8dd0c120",
   "metadata": {},
   "outputs": [
    {
     "name": "stdout",
     "output_type": "stream",
     "text": [
      "<class 'pandas.core.frame.DataFrame'>\n",
      "RangeIndex: 507 entries, 0 to 506\n",
      "Data columns (total 13 columns):\n",
      "username             507 non-null object\n",
      "Unnamed: 0           507 non-null int64\n",
      "text                 507 non-null object\n",
      "reply1               506 non-null object\n",
      "reply2               486 non-null object\n",
      "likes count          507 non-null float64\n",
      "quote_tweet count    507 non-null float64\n",
      "retweet count        507 non-null float64\n",
      "timestamp            507 non-null object\n",
      "followers            507 non-null int64\n",
      "display name         507 non-null object\n",
      "gender               507 non-null object\n",
      "country              507 non-null object\n",
      "dtypes: float64(3), int64(2), object(8)\n",
      "memory usage: 51.6+ KB\n"
     ]
    }
   ],
   "source": [
    "# this was an old dataset, that included followers, gender, and country fields for every tweet--just need 1st\n",
    "# row instance for each username\n",
    "df_user_info = df_user_info.groupby(['username']).first()\n",
    "df_user_info = df_user_info.reset_index()\n",
    "df_user_info.info()"
   ]
  },
  {
   "cell_type": "code",
   "execution_count": 30,
   "id": "7fe35aee",
   "metadata": {},
   "outputs": [
    {
     "name": "stdout",
     "output_type": "stream",
     "text": [
      "<class 'pandas.core.frame.DataFrame'>\n",
      "Int64Index: 507 entries, 0 to 506\n",
      "Data columns (total 6 columns):\n",
      "username                 507 non-null object\n",
      "gender                   507 non-null object\n",
      "country                  507 non-null object\n",
      "followers                507 non-null int64\n",
      "Tweet Sentiment Score    507 non-null float64\n",
      "Reply Sentiment Score    507 non-null float64\n",
      "dtypes: float64(2), int64(1), object(3)\n",
      "memory usage: 27.7+ KB\n"
     ]
    }
   ],
   "source": [
    "df_out = pd.merge(df_user_info[['username','gender','country','followers']],df_ss,how='left',\n",
    "                  left_on='username',right_on='Username')\n",
    "df_out.drop(['Username'],axis=1,inplace=True)\n",
    "df_out.info()"
   ]
  },
  {
   "cell_type": "code",
   "execution_count": 31,
   "id": "1999080e",
   "metadata": {},
   "outputs": [
    {
     "name": "stdout",
     "output_type": "stream",
     "text": [
      "<class 'pandas.core.frame.DataFrame'>\n",
      "Int64Index: 507 entries, 0 to 506\n",
      "Data columns (total 11 columns):\n",
      "username                 507 non-null object\n",
      "gender                   507 non-null object\n",
      "country                  507 non-null object\n",
      "followers                507 non-null int64\n",
      "Tweet Sentiment Score    507 non-null float64\n",
      "Reply Sentiment Score    507 non-null float64\n",
      "F_z                      507 non-null float64\n",
      "G_z                      507 non-null float64\n",
      "coher_z                  507 non-null float64\n",
      "cohes_z                  507 non-null float64\n",
      "language_score           507 non-null float64\n",
      "dtypes: float64(7), int64(1), object(3)\n",
      "memory usage: 47.5+ KB\n"
     ]
    }
   ],
   "source": [
    "df_out = pd.merge(df_out,df_ls_per_username,how='left',on='username')\n",
    "df_out.info()"
   ]
  },
  {
   "cell_type": "code",
   "execution_count": 32,
   "id": "d2532ef0",
   "metadata": {},
   "outputs": [
    {
     "name": "stdout",
     "output_type": "stream",
     "text": [
      "<class 'pandas.core.frame.DataFrame'>\n",
      "Int64Index: 507 entries, 0 to 506\n",
      "Data columns (total 16 columns):\n",
      "username                 507 non-null object\n",
      "gender                   507 non-null object\n",
      "country                  507 non-null object\n",
      "followers                507 non-null int64\n",
      "Tweet Sentiment Score    507 non-null float64\n",
      "Reply Sentiment Score    507 non-null float64\n",
      "F_z                      507 non-null float64\n",
      "G_z                      507 non-null float64\n",
      "coher_z                  507 non-null float64\n",
      "cohes_z                  507 non-null float64\n",
      "language_score           507 non-null float64\n",
      "z_log_replies            507 non-null float64\n",
      "z_log_likes              507 non-null float64\n",
      "z_log_quotes             507 non-null float64\n",
      "z_log_retweets           507 non-null float64\n",
      "metric_score             507 non-null float64\n",
      "dtypes: float64(12), int64(1), object(3)\n",
      "memory usage: 67.3+ KB\n"
     ]
    }
   ],
   "source": [
    "df_out = pd.merge(df_out,df_ms,how='left',on='username')\n",
    "df_out.info()"
   ]
  },
  {
   "cell_type": "code",
   "execution_count": 33,
   "id": "5dea3e93",
   "metadata": {},
   "outputs": [],
   "source": [
    "# some checks\n",
    "import matplotlib.pyplot as plt"
   ]
  },
  {
   "cell_type": "code",
   "execution_count": 34,
   "id": "c23d8c0e",
   "metadata": {},
   "outputs": [
    {
     "data": {
      "image/png": "[encoded data removed]",
      "text/plain": [
       "<Figure size 432x288 with 1 Axes>"
      ]
     },
     "metadata": {
      "needs_background": "light"
     },
     "output_type": "display_data"
    },
    {
     "name": "stdout",
     "output_type": "stream",
     "text": [
      "min/max: -0.9432808936920775/3.3928475170615555\n",
      "middle 95 percentile:\n",
      "0.05   -0.794332\n",
      "0.50   -0.160475\n",
      "0.95    1.581978\n",
      "Name: metric_score, dtype: float64\n",
      "first 90 percent of metric scores:\n",
      "0.1   -0.735150\n",
      "0.5   -0.160475\n",
      "0.9    0.936128\n",
      "Name: metric_score, dtype: float64\n"
     ]
    }
   ],
   "source": [
    "plt.hist(df_out['metric_score'],bins=20)\n",
    "plt.show()\n",
    "print(\"min/max: %s/%s\" % (min(df_out['metric_score']),max(df_out['metric_score'])))\n",
    "print(\"middle 95 percentile:\")\n",
    "print(df_out['metric_score'].quantile([0.05,0.5,0.95]))\n",
    "print(\"first 90 percent of metric scores:\")\n",
    "print(df_out['metric_score'].quantile([0.1,0.5,0.9]))"
   ]
  },
  {
   "cell_type": "code",
   "execution_count": 35,
   "id": "ac2652d5",
   "metadata": {},
   "outputs": [
    {
     "data": {
      "image/png": "[encoded data removed]",
      "text/plain": [
       "<Figure size 432x288 with 1 Axes>"
      ]
     },
     "metadata": {
      "needs_background": "light"
     },
     "output_type": "display_data"
    },
    {
     "name": "stdout",
     "output_type": "stream",
     "text": [
      "min/max: -0.8476867323616766/0.7463857663669287\n",
      "middle 95 percentile:\n",
      "0.05   -0.396506\n",
      "0.50    0.006105\n",
      "0.95    0.427133\n",
      "Name: language_score, dtype: float64\n",
      "first 90 percent of language scores:\n",
      "0.1   -0.313616\n",
      "0.5    0.006105\n",
      "0.9    0.333015\n",
      "Name: language_score, dtype: float64\n"
     ]
    }
   ],
   "source": [
    "plt.hist(df_out['language_score'],bins=20)\n",
    "plt.show()\n",
    "print(\"min/max: %s/%s\" % (min(df_out['language_score']),max(df_out['language_score'])))\n",
    "print(\"middle 95 percentile:\")\n",
    "print(df_out['language_score'].quantile([0.05,0.5,0.95]))\n",
    "print(\"first 90 percent of language scores:\")\n",
    "print(df_out['language_score'].quantile([0.1,0.5,0.9]))"
   ]
  },
  {
   "cell_type": "code",
   "execution_count": 36,
   "id": "14b9b745",
   "metadata": {},
   "outputs": [
    {
     "name": "stdout",
     "output_type": "stream",
     "text": [
      "0.05   -0.400\n",
      "0.50    0.180\n",
      "0.95    0.774\n",
      "Name: Tweet Sentiment Score, dtype: float64\n",
      "0.05   -0.44\n",
      "0.50    0.10\n",
      "0.95    0.67\n",
      "Name: Reply Sentiment Score, dtype: float64\n"
     ]
    }
   ],
   "source": [
    "print(df_out['Tweet Sentiment Score'].quantile([0.05,0.5,0.95]))\n",
    "print(df_out['Reply Sentiment Score'].quantile([0.05,0.5,0.95]))"
   ]
  },
  {
   "cell_type": "code",
   "execution_count": 37,
   "id": "084b8b7b",
   "metadata": {},
   "outputs": [],
   "source": [
    "# compute final weighted sum (perception quotient)\n",
    "def PQ_sum(row):\n",
    "    return (0.4*row['Tweet Sentiment Score']+0.3*row['language_score']+0.25*row['metric_score']+\n",
    "            0.05*row['Reply Sentiment Score'])\n",
    "\n",
    "# metric score, per tweet\n",
    "df_out['PQ_score'] = df_out.apply(weighted_sum,axis=1)"
   ]
  },
  {
   "cell_type": "code",
   "execution_count": 38,
   "id": "c3215310",
   "metadata": {},
   "outputs": [
    {
     "name": "stdout",
     "output_type": "stream",
     "text": [
      "<class 'pandas.core.frame.DataFrame'>\n",
      "Int64Index: 507 entries, 0 to 506\n",
      "Data columns (total 17 columns):\n",
      "username                 507 non-null object\n",
      "gender                   507 non-null object\n",
      "country                  507 non-null object\n",
      "followers                507 non-null int64\n",
      "Tweet Sentiment Score    507 non-null float64\n",
      "Reply Sentiment Score    507 non-null float64\n",
      "F_z                      507 non-null float64\n",
      "G_z                      507 non-null float64\n",
      "coher_z                  507 non-null float64\n",
      "cohes_z                  507 non-null float64\n",
      "language_score           507 non-null float64\n",
      "z_log_replies            507 non-null float64\n",
      "z_log_likes              507 non-null float64\n",
      "z_log_quotes             507 non-null float64\n",
      "z_log_retweets           507 non-null float64\n",
      "metric_score             507 non-null float64\n",
      "PQ_score                 507 non-null float64\n",
      "dtypes: float64(13), int64(1), object(3)\n",
      "memory usage: 71.3+ KB\n"
     ]
    }
   ],
   "source": [
    "df_out.info()"
   ]
  },
  {
   "cell_type": "code",
   "execution_count": 39,
   "id": "2e80aeba",
   "metadata": {},
   "outputs": [
    {
     "data": {
      "text/html": [
       "<div>\n",
       "<style scoped>\n",
       "    .dataframe tbody tr th:only-of-type {\n",
       "        vertical-align: middle;\n",
       "    }\n",
       "\n",
       "    .dataframe tbody tr th {\n",
       "        vertical-align: top;\n",
       "    }\n",
       "\n",
       "    .dataframe thead th {\n",
       "        text-align: right;\n",
       "    }\n",
       "</style>\n",
       "<table border=\"1\" class=\"dataframe\">\n",
       "  <thead>\n",
       "    <tr style=\"text-align: right;\">\n",
       "      <th></th>\n",
       "      <th>username</th>\n",
       "      <th>gender</th>\n",
       "      <th>country</th>\n",
       "      <th>followers</th>\n",
       "      <th>Tweet Sentiment Score</th>\n",
       "      <th>Reply Sentiment Score</th>\n",
       "      <th>F_z</th>\n",
       "      <th>G_z</th>\n",
       "      <th>coher_z</th>\n",
       "      <th>cohes_z</th>\n",
       "      <th>language_score</th>\n",
       "      <th>z_log_replies</th>\n",
       "      <th>z_log_likes</th>\n",
       "      <th>z_log_quotes</th>\n",
       "      <th>z_log_retweets</th>\n",
       "      <th>metric_score</th>\n",
       "      <th>PQ_score</th>\n",
       "    </tr>\n",
       "  </thead>\n",
       "  <tbody>\n",
       "    <tr>\n",
       "      <th>0</th>\n",
       "      <td>13harmanpreet</td>\n",
       "      <td>Male</td>\n",
       "      <td>India</td>\n",
       "      <td>20029</td>\n",
       "      <td>0.84</td>\n",
       "      <td>0.73</td>\n",
       "      <td>-0.228091</td>\n",
       "      <td>-0.299630</td>\n",
       "      <td>-0.137470</td>\n",
       "      <td>-0.590598</td>\n",
       "      <td>-0.074717</td>\n",
       "      <td>-0.121673</td>\n",
       "      <td>0.599458</td>\n",
       "      <td>-0.201362</td>\n",
       "      <td>-0.054830</td>\n",
       "      <td>0.055398</td>\n",
       "      <td>0.055398</td>\n",
       "    </tr>\n",
       "    <tr>\n",
       "      <th>1</th>\n",
       "      <td>_davidlimbrick</td>\n",
       "      <td>Male</td>\n",
       "      <td>Australia</td>\n",
       "      <td>46630</td>\n",
       "      <td>-0.24</td>\n",
       "      <td>-0.47</td>\n",
       "      <td>0.202723</td>\n",
       "      <td>0.187489</td>\n",
       "      <td>-0.146422</td>\n",
       "      <td>-0.588492</td>\n",
       "      <td>-0.255833</td>\n",
       "      <td>1.450757</td>\n",
       "      <td>1.188754</td>\n",
       "      <td>1.208777</td>\n",
       "      <td>1.013061</td>\n",
       "      <td>1.215337</td>\n",
       "      <td>1.215337</td>\n",
       "    </tr>\n",
       "    <tr>\n",
       "      <th>2</th>\n",
       "      <td>_pgauthier</td>\n",
       "      <td>Male</td>\n",
       "      <td>France</td>\n",
       "      <td>22940</td>\n",
       "      <td>0.20</td>\n",
       "      <td>0.19</td>\n",
       "      <td>-0.406884</td>\n",
       "      <td>-0.456007</td>\n",
       "      <td>-0.044151</td>\n",
       "      <td>0.590707</td>\n",
       "      <td>0.268147</td>\n",
       "      <td>-0.505425</td>\n",
       "      <td>-0.886006</td>\n",
       "      <td>-0.366954</td>\n",
       "      <td>-0.698369</td>\n",
       "      <td>-0.614189</td>\n",
       "      <td>-0.614189</td>\n",
       "    </tr>\n",
       "    <tr>\n",
       "      <th>3</th>\n",
       "      <td>_profanand</td>\n",
       "      <td>Male</td>\n",
       "      <td>India</td>\n",
       "      <td>39289</td>\n",
       "      <td>-0.14</td>\n",
       "      <td>-0.17</td>\n",
       "      <td>0.682040</td>\n",
       "      <td>0.889263</td>\n",
       "      <td>-0.066712</td>\n",
       "      <td>0.004933</td>\n",
       "      <td>-0.319236</td>\n",
       "      <td>-0.389838</td>\n",
       "      <td>-0.390940</td>\n",
       "      <td>-0.100666</td>\n",
       "      <td>0.083057</td>\n",
       "      <td>-0.199597</td>\n",
       "      <td>-0.199597</td>\n",
       "    </tr>\n",
       "    <tr>\n",
       "      <th>4</th>\n",
       "      <td>aamnaisani</td>\n",
       "      <td>Female</td>\n",
       "      <td>Pakistan</td>\n",
       "      <td>56797</td>\n",
       "      <td>0.08</td>\n",
       "      <td>-0.01</td>\n",
       "      <td>-0.235224</td>\n",
       "      <td>-0.185765</td>\n",
       "      <td>-0.228481</td>\n",
       "      <td>-0.118579</td>\n",
       "      <td>-0.025964</td>\n",
       "      <td>0.506239</td>\n",
       "      <td>0.661929</td>\n",
       "      <td>0.019976</td>\n",
       "      <td>-0.091043</td>\n",
       "      <td>0.274275</td>\n",
       "      <td>0.274275</td>\n",
       "    </tr>\n",
       "    <tr>\n",
       "      <th>...</th>\n",
       "      <td>...</td>\n",
       "      <td>...</td>\n",
       "      <td>...</td>\n",
       "      <td>...</td>\n",
       "      <td>...</td>\n",
       "      <td>...</td>\n",
       "      <td>...</td>\n",
       "      <td>...</td>\n",
       "      <td>...</td>\n",
       "      <td>...</td>\n",
       "      <td>...</td>\n",
       "      <td>...</td>\n",
       "      <td>...</td>\n",
       "      <td>...</td>\n",
       "      <td>...</td>\n",
       "      <td>...</td>\n",
       "      <td>...</td>\n",
       "    </tr>\n",
       "    <tr>\n",
       "      <th>502</th>\n",
       "      <td>yasminqureshimp</td>\n",
       "      <td>Female</td>\n",
       "      <td>United Kingdom</td>\n",
       "      <td>25998</td>\n",
       "      <td>-0.34</td>\n",
       "      <td>-0.60</td>\n",
       "      <td>0.579329</td>\n",
       "      <td>0.620687</td>\n",
       "      <td>-0.215577</td>\n",
       "      <td>-0.243409</td>\n",
       "      <td>-0.370780</td>\n",
       "      <td>-0.460960</td>\n",
       "      <td>-0.342612</td>\n",
       "      <td>-0.304716</td>\n",
       "      <td>-0.270484</td>\n",
       "      <td>-0.344693</td>\n",
       "      <td>-0.344693</td>\n",
       "    </tr>\n",
       "    <tr>\n",
       "      <th>503</th>\n",
       "      <td>yohannes_v</td>\n",
       "      <td>Male</td>\n",
       "      <td>Australia</td>\n",
       "      <td>30979</td>\n",
       "      <td>-0.38</td>\n",
       "      <td>-0.18</td>\n",
       "      <td>-0.624669</td>\n",
       "      <td>-0.502835</td>\n",
       "      <td>0.022367</td>\n",
       "      <td>0.165451</td>\n",
       "      <td>0.279721</td>\n",
       "      <td>0.039182</td>\n",
       "      <td>0.602825</td>\n",
       "      <td>0.273396</td>\n",
       "      <td>0.717837</td>\n",
       "      <td>0.408310</td>\n",
       "      <td>0.408310</td>\n",
       "    </tr>\n",
       "    <tr>\n",
       "      <th>504</th>\n",
       "      <td>yoursanjali</td>\n",
       "      <td>Female</td>\n",
       "      <td>India</td>\n",
       "      <td>1370047</td>\n",
       "      <td>0.80</td>\n",
       "      <td>0.58</td>\n",
       "      <td>-0.310831</td>\n",
       "      <td>-0.454854</td>\n",
       "      <td>0.626757</td>\n",
       "      <td>0.449709</td>\n",
       "      <td>0.479379</td>\n",
       "      <td>0.595662</td>\n",
       "      <td>0.566111</td>\n",
       "      <td>-0.300328</td>\n",
       "      <td>0.469372</td>\n",
       "      <td>0.332704</td>\n",
       "      <td>0.332704</td>\n",
       "    </tr>\n",
       "    <tr>\n",
       "      <th>505</th>\n",
       "      <td>ysiu</td>\n",
       "      <td>Male</td>\n",
       "      <td>China</td>\n",
       "      <td>145271</td>\n",
       "      <td>0.20</td>\n",
       "      <td>0.58</td>\n",
       "      <td>-0.016964</td>\n",
       "      <td>-0.044300</td>\n",
       "      <td>-0.409144</td>\n",
       "      <td>0.479911</td>\n",
       "      <td>-0.058156</td>\n",
       "      <td>-0.695945</td>\n",
       "      <td>-0.940460</td>\n",
       "      <td>-0.365732</td>\n",
       "      <td>-0.639013</td>\n",
       "      <td>-0.660288</td>\n",
       "      <td>-0.660288</td>\n",
       "    </tr>\n",
       "    <tr>\n",
       "      <th>506</th>\n",
       "      <td>yusuffali_ma</td>\n",
       "      <td>Male</td>\n",
       "      <td>United Arab Emirates</td>\n",
       "      <td>48061</td>\n",
       "      <td>0.88</td>\n",
       "      <td>0.46</td>\n",
       "      <td>0.585986</td>\n",
       "      <td>0.637308</td>\n",
       "      <td>0.212544</td>\n",
       "      <td>-0.110403</td>\n",
       "      <td>-0.176590</td>\n",
       "      <td>0.630984</td>\n",
       "      <td>0.690984</td>\n",
       "      <td>0.139421</td>\n",
       "      <td>0.384624</td>\n",
       "      <td>0.461503</td>\n",
       "      <td>0.461503</td>\n",
       "    </tr>\n",
       "  </tbody>\n",
       "</table>\n",
       "<p>507 rows × 17 columns</p>\n",
       "</div>"
      ],
      "text/plain": [
       "            username  gender               country  followers  \\\n",
       "0      13harmanpreet    Male                 India      20029   \n",
       "1     _davidlimbrick    Male             Australia      46630   \n",
       "2         _pgauthier    Male                France      22940   \n",
       "3         _profanand    Male                 India      39289   \n",
       "4         aamnaisani  Female              Pakistan      56797   \n",
       "..               ...     ...                   ...        ...   \n",
       "502  yasminqureshimp  Female        United Kingdom      25998   \n",
       "503       yohannes_v    Male             Australia      30979   \n",
       "504      yoursanjali  Female                 India    1370047   \n",
       "505             ysiu    Male                 China     145271   \n",
       "506     yusuffali_ma    Male  United Arab Emirates      48061   \n",
       "\n",
       "     Tweet Sentiment Score  Reply Sentiment Score       F_z       G_z  \\\n",
       "0                     0.84                   0.73 -0.228091 -0.299630   \n",
       "1                    -0.24                  -0.47  0.202723  0.187489   \n",
       "2                     0.20                   0.19 -0.406884 -0.456007   \n",
       "3                    -0.14                  -0.17  0.682040  0.889263   \n",
       "4                     0.08                  -0.01 -0.235224 -0.185765   \n",
       "..                     ...                    ...       ...       ...   \n",
       "502                  -0.34                  -0.60  0.579329  0.620687   \n",
       "503                  -0.38                  -0.18 -0.624669 -0.502835   \n",
       "504                   0.80                   0.58 -0.310831 -0.454854   \n",
       "505                   0.20                   0.58 -0.016964 -0.044300   \n",
       "506                   0.88                   0.46  0.585986  0.637308   \n",
       "\n",
       "      coher_z   cohes_z  language_score  z_log_replies  z_log_likes  \\\n",
       "0   -0.137470 -0.590598       -0.074717      -0.121673     0.599458   \n",
       "1   -0.146422 -0.588492       -0.255833       1.450757     1.188754   \n",
       "2   -0.044151  0.590707        0.268147      -0.505425    -0.886006   \n",
       "3   -0.066712  0.004933       -0.319236      -0.389838    -0.390940   \n",
       "4   -0.228481 -0.118579       -0.025964       0.506239     0.661929   \n",
       "..        ...       ...             ...            ...          ...   \n",
       "502 -0.215577 -0.243409       -0.370780      -0.460960    -0.342612   \n",
       "503  0.022367  0.165451        0.279721       0.039182     0.602825   \n",
       "504  0.626757  0.449709        0.479379       0.595662     0.566111   \n",
       "505 -0.409144  0.479911       -0.058156      -0.695945    -0.940460   \n",
       "506  0.212544 -0.110403       -0.176590       0.630984     0.690984   \n",
       "\n",
       "     z_log_quotes  z_log_retweets  metric_score  PQ_score  \n",
       "0       -0.201362       -0.054830      0.055398  0.055398  \n",
       "1        1.208777        1.013061      1.215337  1.215337  \n",
       "2       -0.366954       -0.698369     -0.614189 -0.614189  \n",
       "3       -0.100666        0.083057     -0.199597 -0.199597  \n",
       "4        0.019976       -0.091043      0.274275  0.274275  \n",
       "..            ...             ...           ...       ...  \n",
       "502     -0.304716       -0.270484     -0.344693 -0.344693  \n",
       "503      0.273396        0.717837      0.408310  0.408310  \n",
       "504     -0.300328        0.469372      0.332704  0.332704  \n",
       "505     -0.365732       -0.639013     -0.660288 -0.660288  \n",
       "506      0.139421        0.384624      0.461503  0.461503  \n",
       "\n",
       "[507 rows x 17 columns]"
      ]
     },
     "execution_count": 39,
     "metadata": {},
     "output_type": "execute_result"
    }
   ],
   "source": [
    "df_out"
   ]
  },
  {
   "cell_type": "code",
   "execution_count": 40,
   "id": "1de7d591",
   "metadata": {},
   "outputs": [],
   "source": [
    "df_out.to_csv('/omdena_2/NorthAmerica_perception_quotient.csv',index=False)"
   ]
  },
  {
   "cell_type": "code",
   "execution_count": null,
   "id": "d8b11baa",
   "metadata": {},
   "outputs": [],
   "source": []
  }
 ],
 "metadata": {
  "kernelspec": {
   "display_name": "Python 3",
   "language": "python",
   "name": "python3"
  },
  "language_info": {
   "codemirror_mode": {
    "name": "ipython",
    "version": 3
   },
   "file_extension": ".py",
   "mimetype": "text/x-python",
   "name": "python",
   "nbconvert_exporter": "python",
   "pygments_lexer": "ipython3",
   "version": "3.8.10"
  }
 },
 "nbformat": 4,
 "nbformat_minor": 5
}
