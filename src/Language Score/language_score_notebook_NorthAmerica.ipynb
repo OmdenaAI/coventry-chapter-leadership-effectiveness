{
 "cells": [
  {
   "cell_type": "markdown",
   "metadata": {
    "id": "6__Wio3-7M0D"
   },
   "source": [
    "Flesch–Kincaid readability tests\n",
    "\n",
    "The Gunning Fog index: How low should you go?"
   ]
  },
  {
   "cell_type": "markdown",
   "metadata": {
    "id": "WoyHTZa668Sy"
   },
   "source": [
    "https://en.wikipedia.org/wiki/Flesch%E2%80%93Kincaid_readability_tests#Flesch_Reading_Ease\n",
    "\n",
    "\n",
    "https://medium.com/@annwylie/the-gunning-fog-index-how-low-should-you-go-bd9d9df52279"
   ]
  },
  {
   "cell_type": "code",
   "execution_count": null,
   "metadata": {},
   "outputs": [],
   "source": [
    "# language score calculation notebook for North America"
   ]
  },
  {
   "cell_type": "code",
   "execution_count": 2,
   "metadata": {
    "colab": {
     "base_uri": "https://localhost:8080/"
    },
    "id": "1DWQ3Ypk5wlw",
    "outputId": "b96bb0cb-820c-412e-a7f1-9df0858a50e9"
   },
   "outputs": [
    {
     "name": "stderr",
     "output_type": "stream",
     "text": [
      "[nltk_data] Downloading package punkt to /home/wot/nltk_data...\n",
      "[nltk_data]   Package punkt is already up-to-date!\n",
      "[nltk_data] Downloading package averaged_perceptron_tagger to\n",
      "[nltk_data]     /home/wot/nltk_data...\n",
      "[nltk_data]   Package averaged_perceptron_tagger is already up-to-\n",
      "[nltk_data]       date!\n"
     ]
    }
   ],
   "source": [
    "import pandas as pd\n",
    "import numpy as np\n",
    "import nltk\n",
    "nltk.download(\"punkt\")\n",
    "nltk.download('averaged_perceptron_tagger')\n",
    "from nltk.tokenize import word_tokenize\n",
    "from nltk.probability import FreqDist\n",
    "from textblob import TextBlob\n",
    "import string\n",
    "from scipy.stats import zscore # note, this uses regular, not sample standard deviation\n",
    "import re\n",
    "#pip install nltk\n",
    "#pip install textstat"
   ]
  },
  {
   "cell_type": "code",
   "execution_count": 2,
   "metadata": {
    "colab": {
     "base_uri": "https://localhost:8080/"
    },
    "id": "HJ693jFd2903",
    "outputId": "10b2a284-d98d-4033-fed7-2af8c4593fa1"
   },
   "outputs": [
    {
     "name": "stdout",
     "output_type": "stream",
     "text": [
      "Flesch-Kincaid Grade Level: 7.3\n",
      "Gunning Fog Index: 12.01\n"
     ]
    }
   ],
   "source": [
    "# Flesch-Kincaid and Gunning-Fog\n",
    "\n",
    "import textstat\n",
    "\n",
    "# Example text for readability analysis\n",
    "text = \"This is an example sentence. It has multiple clauses and uses some technical terms. The complexity of this text will be evaluated.\"\n",
    "\n",
    "# Calculate Flesch-Kincaid Grade Level\n",
    "flesch_grade = textstat.flesch_kincaid_grade(text)\n",
    "print(\"Flesch-Kincaid Grade Level:\", flesch_grade)\n",
    "\n",
    "# Calculate Gunning Fog Index\n",
    "gunning_fog = textstat.gunning_fog(text)\n",
    "print(\"Gunning Fog Index:\", gunning_fog)\n"
   ]
  },
  {
   "cell_type": "code",
   "execution_count": 3,
   "metadata": {},
   "outputs": [],
   "source": [
    "def flesch_grade(text):\n",
    "    # did not remove punctuation for these--flesch and gunning seem to require punctuation for sentence complexity\n",
    "    if pd.isna(text):\n",
    "        return np.nan\n",
    "    else:\n",
    "        return textstat.flesch_kincaid_grade(text)\n",
    "\n",
    "def gunning_grade(text):\n",
    "    # did not remove punctuation for these--flesch and gunning seem to require punctuation for sentence complexity\n",
    "    if pd.isna(text):\n",
    "        return np.nan\n",
    "    else:\n",
    "        return textstat.gunning_fog(text)\n",
    "\n",
    "def calculate_cohesion(tweet):\n",
    "    \n",
    "    if pd.isna(tweet):\n",
    "        return np.nan\n",
    "    \n",
    "    # Tokenize the tweet into individual words\n",
    "    tokens = word_tokenize(tweet.lower())\n",
    "\n",
    "    # Remove punctuation marks for cohesion score--do not want to count punctuation as tokens\n",
    "    tokens = [token for token in tokens if token not in string.punctuation]\n",
    "    \n",
    "    if len(tokens) == 0:\n",
    "        print(\"problem with tweet having no tokens: %s\" % tweet)\n",
    "        raise ValueError\n",
    "\n",
    "    # Calculate the frequency distribution of tokens\n",
    "    freq_dist = FreqDist(tokens)\n",
    "\n",
    "    # Calculate the cohesion score based on the number of unique words\n",
    "    cohesion_score = len(freq_dist) / len(tokens)\n",
    "\n",
    "    return cohesion_score\n",
    "\n",
    "def calculate_coherence(tweet):\n",
    "    \n",
    "    if pd.isna(tweet):\n",
    "        return np.nan\n",
    "    \n",
    "    # fetch keywords\n",
    "    keywords = fetch_keywords(tweet)\n",
    "    keywords = [x.lower() for x in keywords]\n",
    "    \n",
    "    # Tokenize the tweet into individual words\n",
    "    tokens = word_tokenize(tweet.lower())\n",
    "\n",
    "    # Remove punctuation marks\n",
    "    tokens = [token for token in tokens if token not in string.punctuation]\n",
    "    \n",
    "    # some tweets can just be punctuation (for example)\n",
    "    #assert len(tokens) > 0, f\"problem with non-empty tweet having no tokens: {tweet}\"\n",
    "    if len(tokens) == 0:\n",
    "        print(\"problem with tweet having no tokens: %s\" % tweet)\n",
    "        raise ValueError\n",
    "\n",
    "    # Calculate the frequency distribution of tokens\n",
    "    freq_dist = FreqDist(tokens)\n",
    "\n",
    "    # Calculate the coherence score based on the presence of keywords\n",
    "    coherence_score = sum(freq_dist[keyword] for keyword in keywords) / len(tokens)\n",
    "\n",
    "    return coherence_score\n",
    "\n",
    "# helper function, for coherence score\n",
    "def fetch_keywords(tweet):\n",
    "    # Perform part-of-speech tagging on the tweet\n",
    "    blob = TextBlob(tweet)\n",
    "    pos_tags = blob.tags\n",
    "\n",
    "    # Extract nouns and adjectives as keywords\n",
    "    keywords = [word for word, pos in pos_tags if pos.startswith(\"N\") or pos.startswith(\"J\")]\n",
    "\n",
    "    return keywords\n",
    "\n"
   ]
  },
  {
   "cell_type": "code",
   "execution_count": 15,
   "metadata": {},
   "outputs": [],
   "source": [
    "# some of the North America text columns still had mentions (@...); these may interfere with syllable counts for\n",
    "# Flesch and Gunning (?)\n",
    "def remove_mentions(tweet):\n",
    "    if isinstance(tweet, str):\n",
    "        tweet = re.sub(\"@[A-Za-z0-9_]+\",\"\", tweet)\n",
    "        tweet = re.sub(r'\\s+', ' ', tweet).strip()\n",
    "        return tweet\n",
    "    else:\n",
    "        return np.nan"
   ]
  },
  {
   "cell_type": "code",
   "execution_count": 30,
   "metadata": {},
   "outputs": [],
   "source": [
    "df = pd.read_csv('North_America_sentiment_analysis.csv') # use the cleaned text (with punctuation) from the sentiment \n",
    "# analysis calculation"
   ]
  },
  {
   "cell_type": "code",
   "execution_count": 31,
   "metadata": {},
   "outputs": [
    {
     "data": {
      "text/plain": [
       "Index(['tweet_id', 'text', 'text_parse', 'txt htg', 'txt mnt', 'reply1',\n",
       "       'reply1_parse', 'r1 htg', 'r1 mnt', 'reply2', 'reply2_parse', 'r2 htg',\n",
       "       'r2 mnt', 'likes count', 'quote_tweet count', 'retweet count',\n",
       "       'timestamp', 'followers', 'username', 'display name', 'gender',\n",
       "       'country', 'text_cleaned', 'text_sentiment', 'reply1_cleaned',\n",
       "       'reply1_sentiment', 'reply2_cleaned', 'reply2_sentiment'],\n",
       "      dtype='object')"
      ]
     },
     "execution_count": 31,
     "metadata": {},
     "output_type": "execute_result"
    }
   ],
   "source": [
    "df.columns"
   ]
  },
  {
   "cell_type": "code",
   "execution_count": 32,
   "metadata": {},
   "outputs": [],
   "source": [
    "# we're supposed to remove mentions (and hashtags) before doing language score (?)\n",
    "df['text_cleaned_2'] = df['text_cleaned'].apply(remove_mentions)"
   ]
  },
  {
   "cell_type": "code",
   "execution_count": 4,
   "metadata": {},
   "outputs": [],
   "source": [
    "# define a function to compute z-scores on a Pandas column; could also use scipy.stats \n",
    "# zscore(), which though does not work with np.nan values (?)\n",
    "def zscore_custom(in_series):\n",
    "    # input a Pandas series (for example a dataframe column), or maybe a numpy array;\n",
    "    # this uses Pandas' mean() and std() handling of np.nan values--which ignores them\n",
    "    # ddof=0 is to match scipy.stats zscore output--debatable if necessary\n",
    "    return (in_series-in_series.mean())/in_series.std(ddof=0)"
   ]
  },
  {
   "cell_type": "code",
   "execution_count": 33,
   "metadata": {},
   "outputs": [],
   "source": [
    "# language score functions are run on tweets preprocessed for sentiment\n",
    "col_nam = 'text_cleaned_2' # only calculate language scores for main tweets--not for replies\n",
    "df['Flesch_Kincaid'] = df[col_nam].apply(flesch_grade)\n",
    "df['Gunning_Fog'] = df[col_nam].apply(gunning_grade)\n",
    "df['coherence'] = df[col_nam].apply(calculate_coherence)\n",
    "df['cohesion'] = df[col_nam].apply(calculate_cohesion)"
   ]
  },
  {
   "cell_type": "code",
   "execution_count": 60,
   "metadata": {},
   "outputs": [
    {
     "name": "stdout",
     "output_type": "stream",
     "text": [
      "6.515349112426036; 4.2059862366974246\n",
      "8.432366863905326; 4.680993474131172\n",
      "0.48049820258998843; 0.2235100629762865\n",
      "0.9180046435899515; 0.08405657293262761\n"
     ]
    }
   ],
   "source": [
    "# see means and standard deviations, just for reference\n",
    "mu = df['Flesch_Kincaid'].mean()\n",
    "sdv = df['Flesch_Kincaid'].std(ddof=0)\n",
    "print(\"%s; %s\" % (mu,sdv))\n",
    "\n",
    "mu = df['Gunning_Fog'].mean()\n",
    "sdv = df['Gunning_Fog'].std(ddof=0)\n",
    "print(\"%s; %s\" % (mu,sdv))\n",
    "\n",
    "mu = df['coherence'].mean()\n",
    "sdv = df['coherence'].std(ddof=0)\n",
    "print(\"%s; %s\" % (mu,sdv))\n",
    "\n",
    "mu = df['cohesion'].mean()\n",
    "sdv = df['cohesion'].std(ddof=0)\n",
    "print(\"%s; %s\" % (mu,sdv))\n"
   ]
  },
  {
   "cell_type": "code",
   "execution_count": 39,
   "metadata": {},
   "outputs": [],
   "source": [
    "# compute z-scores, using custom function\n",
    "df['F_z'] = zscore_custom(df['Flesch_Kincaid'])\n",
    "df['G_z'] = zscore_custom(df['Gunning_Fog'])\n",
    "df['coher_z'] = zscore_custom(df['coherence'])\n",
    "df['cohes_z'] = zscore_custom(df['cohesion'])"
   ]
  },
  {
   "cell_type": "code",
   "execution_count": 40,
   "metadata": {},
   "outputs": [],
   "source": [
    "df['language_score'] = 0.4*df['coher_z']-0.3*df['F_z']+0.2*df['cohes_z']-0.1*df['G_z']"
   ]
  },
  {
   "cell_type": "code",
   "execution_count": 41,
   "metadata": {},
   "outputs": [
    {
     "data": {
      "text/plain": [
       "Index(['tweet_id', 'text', 'text_parse', 'txt htg', 'txt mnt', 'reply1',\n",
       "       'reply1_parse', 'r1 htg', 'r1 mnt', 'reply2', 'reply2_parse', 'r2 htg',\n",
       "       'r2 mnt', 'likes count', 'quote_tweet count', 'retweet count',\n",
       "       'timestamp', 'followers', 'username', 'display name', 'gender',\n",
       "       'country', 'text_cleaned', 'text_sentiment', 'reply1_cleaned',\n",
       "       'reply1_sentiment', 'reply2_cleaned', 'reply2_sentiment',\n",
       "       'text_cleaned_2', 'Flesch_Kincaid', 'Gunning_Fog', 'coherence',\n",
       "       'cohesion', 'F_z', 'G_z', 'coher_z', 'cohes_z', 'language_score'],\n",
       "      dtype='object')"
      ]
     },
     "execution_count": 41,
     "metadata": {},
     "output_type": "execute_result"
    }
   ],
   "source": [
    "df.columns"
   ]
  },
  {
   "cell_type": "code",
   "execution_count": 42,
   "metadata": {},
   "outputs": [],
   "source": [
    "# only save columns relevant to language score\n",
    "df = df[['tweet_id', 'username', 'text', 'text_parse', 'text_cleaned', 'Flesch_Kincaid', \n",
    "         'Gunning_Fog', 'coherence',\n",
    "       'cohesion', 'F_z', 'G_z', 'coher_z', 'cohes_z', 'text_cleaned_2', 'language_score']]"
   ]
  },
  {
   "cell_type": "code",
   "execution_count": 43,
   "metadata": {},
   "outputs": [],
   "source": [
    "df.to_csv(\"language_scores_North_America.csv\", index=False)"
   ]
  },
  {
   "cell_type": "code",
   "execution_count": 44,
   "metadata": {
    "scrolled": true
   },
   "outputs": [
    {
     "name": "stdout",
     "output_type": "stream",
     "text": [
      "11.670188185426788 -2.3812130018499946\n",
      "7.085596961284131 -1.7159534419979499\n",
      "40.35389582601005 -2.1497833081500555\n",
      "0.9754782231696362 -9.017791436697063\n",
      "0.05   -1.430188\n",
      "0.50   -0.098752\n",
      "0.95    1.731972\n",
      "Name: F_z, dtype: float64\n",
      "0.05   -1.374146\n",
      "0.50   -0.068867\n",
      "0.95    1.796122\n",
      "Name: G_z, dtype: float64\n",
      "0.05   -1.191054\n",
      "0.50   -0.129235\n",
      "0.95    1.578610\n",
      "Name: coher_z, dtype: float64\n",
      "0.05   -1.823757\n",
      "0.50    0.164336\n",
      "0.95    0.975478\n",
      "Name: cohes_z, dtype: float64\n"
     ]
    }
   ],
   "source": [
    "# most of the z-scores are ~reasonable; there are however large outliers\n",
    "print(max(df['F_z']), min(df['F_z']))\n",
    "print(max(df['G_z']), min(df['G_z']))\n",
    "print(max(df['coher_z']), min(df['coher_z']))\n",
    "print(max(df['cohes_z']), min(df['cohes_z']))\n",
    "# percentiles--middle 90% of scores, and median\n",
    "print(df['F_z'].quantile([0.05,0.5,0.95])) \n",
    "print(df['G_z'].quantile([0.05,0.5,0.95]))\n",
    "print(df['coher_z'].quantile([0.05,0.5,0.95]))\n",
    "print(df['cohes_z'].quantile([0.05,0.5,0.95]))"
   ]
  },
  {
   "cell_type": "code",
   "execution_count": 6,
   "metadata": {},
   "outputs": [],
   "source": [
    "import matplotlib.pyplot as plt"
   ]
  },
  {
   "cell_type": "code",
   "execution_count": 34,
   "metadata": {},
   "outputs": [
    {
     "data": {
      "image/png": "[encoded data removed]",
      "text/plain": [
       "<Figure size 432x288 with 1 Axes>"
      ]
     },
     "metadata": {
      "needs_background": "light"
     },
     "output_type": "display_data"
    }
   ],
   "source": [
    "plt.hist(df['Flesch_Kincaid'],bins=20)\n",
    "plt.show()"
   ]
  },
  {
   "cell_type": "code",
   "execution_count": 35,
   "metadata": {},
   "outputs": [
    {
     "data": {
      "image/png": "[encoded data removed]",
      "text/plain": [
       "<Figure size 432x288 with 1 Axes>"
      ]
     },
     "metadata": {
      "needs_background": "light"
     },
     "output_type": "display_data"
    }
   ],
   "source": [
    "plt.hist(df['Gunning_Fog'],bins=20)\n",
    "plt.show()"
   ]
  },
  {
   "cell_type": "code",
   "execution_count": 36,
   "metadata": {
    "scrolled": true
   },
   "outputs": [
    {
     "data": {
      "image/png": "[encoded data removed]",
      "text/plain": [
       "<Figure size 432x288 with 1 Axes>"
      ]
     },
     "metadata": {
      "needs_background": "light"
     },
     "output_type": "display_data"
    }
   ],
   "source": [
    "plt.hist(df['coherence'],bins=50)\n",
    "plt.show()"
   ]
  },
  {
   "cell_type": "code",
   "execution_count": 37,
   "metadata": {},
   "outputs": [
    {
     "data": {
      "image/png": "[encoded data removed]",
      "text/plain": [
       "<Figure size 432x288 with 1 Axes>"
      ]
     },
     "metadata": {
      "needs_background": "light"
     },
     "output_type": "display_data"
    }
   ],
   "source": [
    "# this is the \"worst\" distribution, from a normal / bell curve standpoint--z-scores may have\n",
    "# strange outliers for this column\n",
    "plt.hist(df['cohesion'],bins=20)\n",
    "plt.show()"
   ]
  },
  {
   "cell_type": "code",
   "execution_count": 57,
   "metadata": {},
   "outputs": [
    {
     "data": {
      "image/png": "[encoded data removed]",
      "text/plain": [
       "<Figure size 432x288 with 1 Axes>"
      ]
     },
     "metadata": {
      "needs_background": "light"
     },
     "output_type": "display_data"
    },
    {
     "name": "stdout",
     "output_type": "stream",
     "text": [
      "0.05   -0.844226\n",
      "0.50   -0.023614\n",
      "0.95    0.926868\n",
      "Name: language_score, dtype: float64\n"
     ]
    }
   ],
   "source": [
    "# distribution of overall language score values\n",
    "plt.hist(df['language_score'],bins=100)\n",
    "plt.xlim([-4,4])\n",
    "plt.title('final language score histogram (per tweet)')\n",
    "plt.show()\n",
    "print(df['language_score'].quantile([0.05,0.5,0.95]))"
   ]
  }
 ],
 "metadata": {
  "colab": {
   "provenance": []
  },
  "kernelspec": {
   "display_name": "Python 3",
   "language": "python",
   "name": "python3"
  },
  "language_info": {
   "codemirror_mode": {
    "name": "ipython",
    "version": 3
   },
   "file_extension": ".py",
   "mimetype": "text/x-python",
   "name": "python",
   "nbconvert_exporter": "python",
   "pygments_lexer": "ipython3",
   "version": "3.8.10"
  }
 },
 "nbformat": 4,
 "nbformat_minor": 1
}
