{
  "nbformat": 4,
  "nbformat_minor": 0,
  "metadata": {
    "colab": {
      "provenance": []
    },
    "kernelspec": {
      "name": "python3",
      "display_name": "Python 3"
    },
    "language_info": {
      "name": "python"
    }
  },
  "cells": [
    {
      "cell_type": "markdown",
      "source": [
        "HUGGING FACE SENTIMENT ANALYSIS WITH SARCASM DETECTION (SARCASM CLASSIFIED AS NEGATIVE)\n"
      ],
      "metadata": {
        "id": "zyyzPixh-rh9"
      }
    },
    {
      "cell_type": "code",
      "source": [
        "import nltk\n",
        "nltk.download('vader_lexicon')\n"
      ],
      "metadata": {
        "colab": {
          "base_uri": "https://localhost:8080/"
        },
        "id": "A8sEcg_KlyCz",
        "outputId": "8cfa4cb2-e8b4-42eb-9baf-651d6c5e7320"
      },
      "execution_count": 5,
      "outputs": [
        {
          "output_type": "stream",
          "name": "stderr",
          "text": [
            "[nltk_data] Downloading package vader_lexicon to /root/nltk_data...\n"
          ]
        },
        {
          "output_type": "execute_result",
          "data": {
            "text/plain": [
              "True"
            ]
          },
          "metadata": {},
          "execution_count": 5
        }
      ]
    },
    {
      "cell_type": "code",
      "source": [
        "pip install transformers"
      ],
      "metadata": {
        "id": "H_w0gztRmJLz"
      },
      "execution_count": null,
      "outputs": []
    },
    {
      "cell_type": "code",
      "source": [
        "from transformers import AutoModelForSequenceClassification\n",
        "from transformers import AutoTokenizer\n",
        "import string\n",
        "import nltk\n",
        "from nltk.sentiment.vader import SentimentIntensityAnalyzer\n",
        "\n",
        "def preprocess_data(text: str) -> str:\n",
        "   return text.lower().translate(str.maketrans(\"\", \"\", string.punctuation)).strip()\n",
        "\n",
        "MODEL_PATH = \"jkhan447/sarcasm-detection-xlnet-base-cased\"\n",
        "\n",
        "tokenizer = AutoTokenizer.from_pretrained(MODEL_PATH)\n",
        "model = AutoModelForSequenceClassification.from_pretrained(MODEL_PATH)\n",
        "\n",
        "text = \"I hate standing in a queue for hours.\"\n",
        "# Sentiment analysis using VADER\n",
        "sia = SentimentIntensityAnalyzer()\n",
        "sentiment_scores = sia.polarity_scores(text)\n",
        "print(f\"Sentiment Scores: {sentiment_scores}\")\n",
        "\n",
        "# Function to classify the sentiment based on compound score\n",
        "def classify_sentiment(compound_score, threshold=0.05):\n",
        "    if compound_score > threshold:\n",
        "        return \"Positive\"\n",
        "    elif compound_score < -threshold:\n",
        "        return \"Negative\"\n",
        "    else:\n",
        "        return \"Neutral\"\n",
        "\n",
        "# Tokenize the text\n",
        "tokenized_text = tokenizer(preprocess_data(text), padding=True, truncation=True, max_length=256, return_tensors=\"pt\")\n",
        "output = model(**tokenized_text)\n",
        "probs = output.logits.softmax(dim=-1).tolist()[0]\n",
        "confidence = max(probs)\n",
        "prediction = probs.index(confidence)\n",
        "results = {\"is_sarcastic\": prediction, \"confidence\": confidence}\n",
        "\n",
        "# Determining final sentiment label\n",
        "if results['is_sarcastic'] == 1:\n",
        "    final_sentiment = \"Negative\"\n",
        "    print(final_sentiment)\n",
        "else:\n",
        "    compound_score = sentiment_scores['compound']\n",
        "    final_sentiment = classify_sentiment(compound_score, threshold=0.05)\n",
        "    print(final_sentiment)\n"
      ],
      "metadata": {
        "colab": {
          "base_uri": "https://localhost:8080/"
        },
        "id": "ACp9yVcDlmzC",
        "outputId": "5797c9a4-13bd-4ab3-aa3b-56d9b46b6ea0"
      },
      "execution_count": 8,
      "outputs": [
        {
          "output_type": "stream",
          "name": "stdout",
          "text": [
            "Sentiment Scores: {'neg': 0.425, 'neu': 0.575, 'pos': 0.0, 'compound': -0.5719}\n",
            "Negative\n"
          ]
        }
      ]
    },
    {
      "cell_type": "code",
      "source": [],
      "metadata": {
        "id": "hvqr4g1qmNO5"
      },
      "execution_count": null,
      "outputs": []
    }
  ]
}