{
  "nbformat": 4,
  "nbformat_minor": 0,
  "metadata": {
    "colab": {
      "provenance": []
    },
    "kernelspec": {
      "name": "python3",
      "display_name": "Python 3"
    },
    "language_info": {
      "name": "python"
    }
  },
  "cells": [
    {
      "cell_type": "markdown",
      "source": [
        "HUGGING FACE SENTIMENT ANALYSIS WITH SARCASM DETECTION (SARCASM CLASSIFIED AS NEGATIVE)\n"
      ],
      "metadata": {
        "id": "zyyzPixh-rh9"
      }
    },
    {
      "cell_type": "code",
      "source": [
        "from transformers import AutoModelForSequenceClassification\n",
        "from transformers import AutoTokenizer\n",
        "import string\n",
        "import nltk\n",
        "from nltk.sentiment.vader import SentimentIntensityAnalyzer\n",
        "\n",
        "def preprocess_data(text: str) -> str:\n",
        "   return text.lower().translate(str.maketrans(\"\", \"\", string.punctuation)).strip()\n",
        "\n",
        "MODEL_PATH = \"jkhan447/sarcasm-detection-xlnet-base-cased\"\n",
        "\n",
        "tokenizer = AutoTokenizer.from_pretrained(MODEL_PATH)\n",
        "model = AutoModelForSequenceClassification.from_pretrained(MODEL_PATH)\n",
        "\n",
        "text = \"Oh great, I just love sitting in traffic for hours on end.\"\n",
        "# sentiment analysis using VADER\n",
        "sia = SentimentIntensityAnalyzer()\n",
        "sentiment_scores = sia.polarity_scores(text)\n",
        "print(f\"Sentiment Scores: {sentiment_scores}\")\n",
        "\n",
        "tokenized_text = tokenizer([preprocess_data(text)], padding=True, truncation=True, max_length=256, return_tensors=\"pt\")\n",
        "output = model(**tokenized_text)\n",
        "probs = output.logits.softmax(dim=-1).tolist()[0]\n",
        "confidence = max(probs)\n",
        "prediction = probs.index(confidence)\n",
        "results = {\"is_sarcastic\": prediction, \"confidence\": confidence}\n",
        "# Determining final sentiment label\n",
        "if results['is_sarcastic'] == 1:\n",
        "    final_sentiment_s = \"Negative\"\n",
        "    print(final_sentiment_s)\n",
        "else:\n",
        "    compound_score = sentiment_scores['compound']\n",
        "    final_sentiment = classify_sentiment(compound_score, threshold=0.05)\n",
        "    print(final_sentiment)"
      ],
      "metadata": {
        "colab": {
          "base_uri": "https://localhost:8080/"
        },
        "outputId": "a020898c-895d-4945-b3b0-5cb3d41209f5",
        "id": "XGz9w78I644I"
      },
      "execution_count": 1,
      "outputs": [
        {
          "output_type": "stream",
          "name": "stdout",
          "text": [
            "Sentiment Scores: {'neg': 0.0, 'neu': 0.52, 'pos': 0.48, 'compound': 0.8519}\n",
            "Negative\n"
          ]
        }
      ]
    }
  ]
}