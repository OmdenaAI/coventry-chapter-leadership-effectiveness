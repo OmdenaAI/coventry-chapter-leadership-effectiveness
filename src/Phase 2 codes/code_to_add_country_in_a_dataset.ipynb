{
  "nbformat": 4,
  "nbformat_minor": 0,
  "metadata": {
    "colab": {
      "provenance": []
    },
    "kernelspec": {
      "name": "python3",
      "display_name": "Python 3"
    },
    "language_info": {
      "name": "python"
    }
  },
  "cells": [
    {
      "cell_type": "code",
      "execution_count": null,
      "metadata": {
        "id": "kAQ1BcaXHo-N"
      },
      "outputs": [],
      "source": [
        "pip install geopy\n"
      ]
    },
    {
      "cell_type": "code",
      "source": [
        "from geopy.geocoders import Nominatim\n"
      ],
      "metadata": {
        "id": "73uyUDa1Hte9"
      },
      "execution_count": null,
      "outputs": []
    },
    {
      "cell_type": "code",
      "source": [
        "geolocator = Nominatim(user_agent='your-application')\n"
      ],
      "metadata": {
        "id": "v7ChuGIDHv1N"
      },
      "execution_count": null,
      "outputs": []
    },
    {
      "cell_type": "code",
      "source": [
        "import time\n",
        "\n",
        "# import the necessary libraries\n",
        "from tqdm import tqdm\n",
        "\n",
        "# initialize the geolocator\n",
        "\n",
        "# define a dictionary to store the locations by country\n",
        "locations_by_country = {}\n",
        "\n",
        "# create a tqdm progress bar\n",
        "pbar = tqdm(total=len(df))\n",
        "\n",
        "# iterate over the rows of the dataset\n",
        "for index, row in df.iterrows():\n",
        "    # geocode the location using Nominatim\n",
        "    location_info = geolocator.geocode(row['location'])\n",
        "\n",
        "    # check if the geocoding request returned a result\n",
        "    if location_info is not None:\n",
        "        # extract the location information as a string\n",
        "        location_str = location_info.address\n",
        "\n",
        "        # print the location and location information\n",
        "        print(f\"Location: {row['location']}\")\n",
        "        print(f\"Location info: {location_str}\")\n",
        "\n",
        "        # extract the last word in the location information as the country\n",
        "        location_info_words = location_str.split(\", \")\n",
        "        country = location_info_words[-1]\n",
        "\n",
        "        # add the location to the dictionary under its country\n",
        "        if country in locations_by_country:\n",
        "            locations_by_country[country].append(row['location'])\n",
        "        else:\n",
        "            locations_by_country[country] = [row['location']]\n",
        "\n",
        "        # add the country to the dataset\n",
        "        df.at[index, 'country'] = country\n",
        "    else:\n",
        "        print(f\"No result found for location: {row['location']}\")\n",
        "\n",
        "    # update the progress bar\n",
        "    pbar.update(1)\n",
        "\n",
        "    # sleep for 5 minutes every thousand iterations to prevent timeout\n",
        "    if pbar.n % 100 == 0:\n",
        "        print(\"Sleeping for 2 minutes...\")\n",
        "        time.sleep(120)\n"
      ],
      "metadata": {
        "id": "FFdEWjl2H3r2"
      },
      "execution_count": null,
      "outputs": []
    },
    {
      "cell_type": "code",
      "source": [],
      "metadata": {
        "id": "DG0XZjPjIC86"
      },
      "execution_count": null,
      "outputs": []
    }
  ]
}