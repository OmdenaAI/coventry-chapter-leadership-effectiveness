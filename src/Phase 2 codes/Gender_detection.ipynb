{
  "nbformat": 4,
  "nbformat_minor": 0,
  "metadata": {
    "colab": {
      "provenance": []
    },
    "kernelspec": {
      "name": "python3",
      "display_name": "Python 3"
    },
    "language_info": {
      "name": "python"
    }
  },
  "cells": [
    {
      "cell_type": "code",
      "source": [
        "import tweepy\n",
        "\n",
        "# set up your Twitter API keys and access tokens\n",
        "consumer_key = \"\"\n",
        "consumer_secret = \"\"\n",
        "access_token = \"\"\n",
        "access_token_secret = \"\"\n"
      ],
      "metadata": {
        "id": "XHqssXLwb8HF"
      },
      "execution_count": null,
      "outputs": []
    },
    {
      "cell_type": "code",
      "execution_count": null,
      "metadata": {
        "id": "18eZGqfga3wK"
      },
      "outputs": [],
      "source": [
        "import tweepy\n",
        "import urllib.request\n",
        "import cv2\n",
        "import numpy as np\n",
        "\n",
        "# Load the GenderNet model\n",
        "gender_net = cv2.dnn.readNetFromCaffe(\"/content/drive/MyDrive/AgeGender/gender_deploy.prototxt\", \"/content/drive/MyDrive/AgeGender/gender_net.caffemodel\")\n",
        "\n",
        "# Authenticate with Twitter API\n",
        "auth = tweepy.OAuthHandler(consumer_key, consumer_secret)\n",
        "auth.set_access_token(access_token, access_token_secret)\n",
        "api = tweepy.API(auth,wait_on_rate_limit=True, wait_on_rate_limit_notify=True)\n",
        "\n",
        "# Replace with the Twitter usernames to analyze\n",
        "usernames = df['Username'].tolist()\n",
        "\n",
        "# Create a new column in the DataFrame to hold the gender classification results\n",
        "df['gender'] = np.nan\n",
        "\n",
        "# Loop through the usernames and analyze their profile pictures\n",
        "for username in usernames:\n",
        "    # Retrieve the user's profile picture URL from their Twitter profile\n",
        "    user = api.get_user(username)\n",
        "    image_url = user.profile_image_url_https.replace(\"_normal\", \"\")\n",
        "\n",
        "    # Load the image from the URL and convert it to a numpy array\n",
        "    with urllib.request.urlopen(image_url) as url:\n",
        "        image_data = url.read()\n",
        "    image_np = np.frombuffer(image_data, np.uint8)\n",
        "    image = cv2.imdecode(image_np, cv2.IMREAD_COLOR)\n",
        "\n",
        "    # Define the input size of the GenderNet model\n",
        "    input_size = (227, 227)\n",
        "\n",
        "    # Resize the image to the expected input size of the GenderNet model\n",
        "    resized_image = cv2.resize(image, input_size)\n",
        "\n",
        "    # Preprocess the image for the GenderNet model\n",
        "    blob = cv2.dnn.blobFromImage(resized_image, scalefactor=1.0, size=input_size, mean=(78.4263377603, 87.7689143744, 114.895847746), swapRB=False)\n",
        "\n",
        "    # Run the GenderNet model on the image\n",
        "    gender_net.setInput(blob)\n",
        "    gender_preds = gender_net.forward()\n",
        "\n",
        "    # Classify the gender based on the output of the GenderNet model\n",
        "    gender_prob = gender_preds[0][0]\n",
        "    if gender_prob > 0.5:\n",
        "        gender = \"Male\"\n",
        "    else:\n",
        "        gender = \"Female\"\n",
        "\n",
        "    # Update the gender column in the DataFrame with the classification result\n",
        "    df.loc[df['Username'] == username, 'gender'] = gender\n",
        "\n",
        "# Print the updated DataFrame\n",
        "print(df)\n"
      ]
    },
    {
      "cell_type": "code",
      "source": [],
      "metadata": {
        "id": "5EgJ897bb6aw"
      },
      "execution_count": null,
      "outputs": []
    }
  ]
}